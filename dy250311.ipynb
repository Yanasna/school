{
 "cells": [
  {
   "cell_type": "code",
   "execution_count": 2,
   "id": "ac9d4bd7-4ff9-4cb4-acab-c28d10ed0a41",
   "metadata": {},
   "outputs": [
    {
     "name": "stdout",
     "output_type": "stream",
     "text": [
      "1 <class 'int'>\n"
     ]
    }
   ],
   "source": [
    "x = 1\n",
    "print(x, type(x))"
   ]
  },
  {
   "cell_type": "code",
   "execution_count": 3,
   "id": "138d2844-cbee-4d52-b1ad-51651ca7ae19",
   "metadata": {},
   "outputs": [
    {
     "name": "stdout",
     "output_type": "stream",
     "text": [
      "2.8 <class 'float'>\n"
     ]
    }
   ],
   "source": [
    "y = 2.8\n",
    "print(y, type(y))"
   ]
  },
  {
   "cell_type": "code",
   "execution_count": 4,
   "id": "152b99fc-3ee2-4b88-9432-0a64a0d87121",
   "metadata": {},
   "outputs": [
    {
     "name": "stdout",
     "output_type": "stream",
     "text": [
      "(1+3j) <class 'complex'>\n"
     ]
    }
   ],
   "source": [
    "z = 1 + 3j\n",
    "print(z, type(z))\n"
   ]
  },
  {
   "cell_type": "code",
   "execution_count": 5,
   "id": "34aa0bb9-9751-4e61-88fd-27928faeb880",
   "metadata": {},
   "outputs": [
    {
     "name": "stdout",
     "output_type": "stream",
     "text": [
      "True <class 'bool'>\n",
      "False <class 'bool'>\n",
      "False <class 'bool'>\n"
     ]
    }
   ],
   "source": [
    "a = True\n",
    "b = False\n",
    "c = 3 > 4\n",
    "print(a, type(a))\n",
    "print(b , type(b))\n",
    "print(c, type(c))"
   ]
  },
  {
   "cell_type": "code",
   "execution_count": 11,
   "id": "ccae68e9-def4-4d51-bcf6-0e7914fe0c47",
   "metadata": {},
   "outputs": [
    {
     "name": "stdout",
     "output_type": "stream",
     "text": [
      "False <class 'bool'>\n",
      "False <class 'bool'>\n",
      "False <class 'bool'>\n"
     ]
    }
   ],
   "source": [
    "d = bool(0)\n",
    "e = bool(0.0)\n",
    "f = bool('')\n",
    "\n",
    "print(d, type(d))\n",
    "print(e, type(e))\n",
    "print(f, type(f))"
   ]
  },
  {
   "cell_type": "code",
   "execution_count": 12,
   "id": "5b86ba84-0a3f-47d2-b4f9-cb6746686ef9",
   "metadata": {},
   "outputs": [
    {
     "name": "stdout",
     "output_type": "stream",
     "text": [
      "True <class 'bool'>\n",
      "True <class 'bool'>\n",
      "True <class 'bool'>\n"
     ]
    }
   ],
   "source": [
    "g = bool(2)\n",
    "h = bool(1.0)\n",
    "i = bool('a')\n",
    "\n",
    "print(g, type(g))\n",
    "print(h, type(h))\n",
    "print(i, type(i))"
   ]
  },
  {
   "cell_type": "code",
   "execution_count": 13,
   "id": "4e3ea7f0-f2a5-4390-8946-98cb2f44dfc3",
   "metadata": {},
   "outputs": [
    {
     "name": "stdout",
     "output_type": "stream",
     "text": [
      "hello <class 'str'>\n",
      "world <class 'str'>\n"
     ]
    }
   ],
   "source": [
    "a = 'hello'\n",
    "b = \"world\"\n",
    "print(a, type(a))\n",
    "print(b, type(b))"
   ]
  },
  {
   "cell_type": "code",
   "execution_count": 14,
   "id": "dd41d04e-e846-4e50-b77a-ee2035887b30",
   "metadata": {},
   "outputs": [
    {
     "name": "stdout",
     "output_type": "stream",
     "text": [
      "My name\n",
      "is Jung <class 'str'>\n"
     ]
    }
   ],
   "source": [
    "c = '''My name\n",
    "is Jung''' \n",
    "print(c, type(c))"
   ]
  },
  {
   "cell_type": "code",
   "execution_count": 17,
   "id": "58fc59ce-3b4e-46a5-9f3e-2be6f52eea18",
   "metadata": {},
   "outputs": [
    {
     "name": "stdout",
     "output_type": "stream",
     "text": [
      "\"python\"\n"
     ]
    }
   ],
   "source": [
    "d = '\"python\"'\n",
    "print(d)"
   ]
  },
  {
   "cell_type": "code",
   "execution_count": 18,
   "id": "f0c6965f-0301-497d-b700-2f0b1c257f8f",
   "metadata": {},
   "outputs": [
    {
     "name": "stdout",
     "output_type": "stream",
     "text": [
      "\"python\"\n"
     ]
    }
   ],
   "source": [
    "e = '\"python\"'\n",
    "print(e)"
   ]
  },
  {
   "cell_type": "code",
   "execution_count": 20,
   "id": "075cfe2d-e817-4722-928a-012e2614a124",
   "metadata": {},
   "outputs": [
    {
     "name": "stdout",
     "output_type": "stream",
     "text": [
      "d o n\n"
     ]
    }
   ],
   "source": [
    "f = 'dongyang'\n",
    "print(f[0], f[1], f[2])"
   ]
  },
  {
   "cell_type": "code",
   "execution_count": 21,
   "id": "94613d1c-d6d8-451e-8ff3-eb5acf2ee387",
   "metadata": {},
   "outputs": [
    {
     "name": "stdout",
     "output_type": "stream",
     "text": [
      "c\n",
      "o\n",
      "m\n",
      "p\n",
      "u\n",
      "t\n",
      "e\n",
      "r\n"
     ]
    }
   ],
   "source": [
    "g = 'computer'\n",
    "for char in g : \n",
    "    print(char)"
   ]
  },
  {
   "cell_type": "code",
   "execution_count": 22,
   "id": "01ed547b-08c7-444e-bc52-3bd3c6083f01",
   "metadata": {},
   "outputs": [
    {
     "name": "stdout",
     "output_type": "stream",
     "text": [
      "a\n"
     ]
    }
   ],
   "source": [
    "h = 'a'\n",
    "print(h[0])"
   ]
  },
  {
   "cell_type": "code",
   "execution_count": 24,
   "id": "8b7b215e-f6b5-41eb-9974-9d217b253d81",
   "metadata": {},
   "outputs": [
    {
     "name": "stdout",
     "output_type": "stream",
     "text": [
      "[10, 20, 30] <class 'list'>\n"
     ]
    }
   ],
   "source": [
    "a = [10, 20, 30]\n",
    "print(a, type(a))"
   ]
  },
  {
   "cell_type": "code",
   "execution_count": 25,
   "id": "9f9848ad-a703-419e-a389-f23fdc7a38ef",
   "metadata": {},
   "outputs": [
    {
     "name": "stdout",
     "output_type": "stream",
     "text": [
      "[1, 3.92, False, 'dongyang'] <class 'list'>\n"
     ]
    }
   ],
   "source": [
    "b = [1, 3.92, 3 > 5, 'dongyang']\n",
    "print(b, type(b))"
   ]
  },
  {
   "cell_type": "code",
   "execution_count": 28,
   "id": "4b03ba17-d9de-443b-b24f-e848bcdb2447",
   "metadata": {},
   "outputs": [
    {
     "name": "stdout",
     "output_type": "stream",
     "text": [
      "1 3.92 False dongyang\n"
     ]
    }
   ],
   "source": [
    "c = [1, 3.92, 3> 5, 'dongyang']\n",
    "print(c[0], c[1] ,c[2], c[3])\n"
   ]
  },
  {
   "cell_type": "code",
   "execution_count": 30,
   "id": "d3ad4690-4a35-48d8-a12a-f9ad0fc0813f",
   "metadata": {},
   "outputs": [
    {
     "name": "stdout",
     "output_type": "stream",
     "text": [
      "1\n",
      "3.92\n",
      "False\n",
      "dongyang\n"
     ]
    }
   ],
   "source": [
    "d = [1, 3.92, 3>5, 'dongyang']\n",
    "for item in d : \n",
    "    print(item)"
   ]
  },
  {
   "cell_type": "code",
   "execution_count": 32,
   "id": "2b7ef259-3d3d-4df0-bf17-38789d79ecd3",
   "metadata": {},
   "outputs": [
    {
     "name": "stdout",
     "output_type": "stream",
     "text": [
      "변경전 :  [10, 'python', 'java']\n",
      "변경 후 :  ['C#', 'python', 'java']\n"
     ]
    }
   ],
   "source": [
    "e = [10, 'python', 'java']\n",
    "print('변경전 : ', e)\n",
    "\n",
    "e[0]= 'C#'\n",
    "print('변경 후 : ', e)"
   ]
  },
  {
   "cell_type": "code",
   "execution_count": 34,
   "id": "efaf630f-98a5-4b3d-a84b-cf37c51c0d1f",
   "metadata": {},
   "outputs": [
    {
     "name": "stdout",
     "output_type": "stream",
     "text": [
      "(10, 20, 30) <class 'tuple'>\n"
     ]
    }
   ],
   "source": [
    " a = (10, 20 , 30)\n",
    "print(a, type(a))"
   ]
  },
  {
   "cell_type": "code",
   "execution_count": 35,
   "id": "cf53ab3a-b6da-477f-9662-b0ce5c645f5e",
   "metadata": {},
   "outputs": [
    {
     "name": "stdout",
     "output_type": "stream",
     "text": [
      "(10, 20, 30) <class 'tuple'>\n"
     ]
    }
   ],
   "source": [
    "b = 10, 20, 30\n",
    "print(b, type(b))"
   ]
  },
  {
   "cell_type": "code",
   "execution_count": 36,
   "id": "60989518-cbc1-445d-85ea-ccf4039ec47e",
   "metadata": {},
   "outputs": [
    {
     "name": "stdout",
     "output_type": "stream",
     "text": [
      "(10, False, 'computer') <class 'tuple'>\n"
     ]
    }
   ],
   "source": [
    "c = (10, 3 > 5 , 'computer')\n",
    "print(c, type(c))"
   ]
  },
  {
   "cell_type": "code",
   "execution_count": 37,
   "id": "4d701100-16c0-4316-8ce5-e7129023f239",
   "metadata": {},
   "outputs": [
    {
     "name": "stdout",
     "output_type": "stream",
     "text": [
      "10 False computer\n"
     ]
    }
   ],
   "source": [
    "c = (10, 3> 5, 'computer')\n",
    "print(c[0], c[1], c[2])"
   ]
  },
  {
   "cell_type": "code",
   "execution_count": 39,
   "id": "5056294d-03d4-482b-9150-655916894cce",
   "metadata": {},
   "outputs": [
    {
     "name": "stdout",
     "output_type": "stream",
     "text": [
      "10\n",
      "False\n",
      "computer\n"
     ]
    }
   ],
   "source": [
    "c = (10, 3>5, 'computer')\n",
    "for item in c : \n",
    "    print(item)"
   ]
  },
  {
   "cell_type": "code",
   "execution_count": 40,
   "id": "157c07da-cbe1-4f65-8acd-604daf40c477",
   "metadata": {},
   "outputs": [
    {
     "name": "stdout",
     "output_type": "stream",
     "text": [
      "변경 전 :  (10, False, 'computer')\n"
     ]
    },
    {
     "ename": "TypeError",
     "evalue": "'tuple' object does not support item assignment",
     "output_type": "error",
     "traceback": [
      "\u001b[1;31m---------------------------------------------------------------------------\u001b[0m",
      "\u001b[1;31mTypeError\u001b[0m                                 Traceback (most recent call last)",
      "Cell \u001b[1;32mIn[40], line 4\u001b[0m\n\u001b[0;32m      1\u001b[0m c \u001b[38;5;241m=\u001b[39m (\u001b[38;5;241m10\u001b[39m, \u001b[38;5;241m3\u001b[39m\u001b[38;5;241m>\u001b[39m  \u001b[38;5;241m5\u001b[39m, \u001b[38;5;124m'\u001b[39m\u001b[38;5;124mcomputer\u001b[39m\u001b[38;5;124m'\u001b[39m)\n\u001b[0;32m      2\u001b[0m \u001b[38;5;28mprint\u001b[39m(\u001b[38;5;124m'\u001b[39m\u001b[38;5;124m변경 전 : \u001b[39m\u001b[38;5;124m'\u001b[39m, c)\n\u001b[1;32m----> 4\u001b[0m c[\u001b[38;5;241m0\u001b[39m] \u001b[38;5;241m=\u001b[39m \u001b[38;5;124m'\u001b[39m\u001b[38;5;124msoftware\u001b[39m\u001b[38;5;124m'\u001b[39m\n\u001b[0;32m      5\u001b[0m \u001b[38;5;28mprint\u001b[39m(\u001b[38;5;124m'\u001b[39m\u001b[38;5;124m변경 후 : \u001b[39m\u001b[38;5;124m'\u001b[39m, c)\n",
      "\u001b[1;31mTypeError\u001b[0m: 'tuple' object does not support item assignment"
     ]
    }
   ],
   "source": [
    "c = (10, 3>  5, 'computer')\n",
    "print('변경 전 : ', c)\n",
    "\n",
    "c[0] = 'software'\n",
    "print('변경 후 : ', c)"
   ]
  },
  {
   "cell_type": "code",
   "execution_count": 41,
   "id": "a099e0a4-3e93-4813-9456-10c76a4867e4",
   "metadata": {},
   "outputs": [
    {
     "name": "stdout",
     "output_type": "stream",
     "text": [
      "{'라면': 1200, '음료수': 1500, '과자': 800} <class 'dict'>\n"
     ]
    }
   ],
   "source": [
    "mart = {'라면' : 1200, '음료수' : 1500, '과자' : 800}\n",
    "print(mart, type(mart))"
   ]
  },
  {
   "cell_type": "code",
   "execution_count": 43,
   "id": "cfc44d6a-3d91-4ad9-afec-426104d09f62",
   "metadata": {},
   "outputs": [
    {
     "name": "stdout",
     "output_type": "stream",
     "text": [
      "1500 800\n"
     ]
    }
   ],
   "source": [
    "mart = {'라면' : 1200, '음료수' : 1500, '과자' : 800}\n",
    "\n",
    "print(mart['음료수'], mart['과자'])"
   ]
  },
  {
   "cell_type": "code",
   "execution_count": 65,
   "id": "74671b8b-1f2d-4e0e-b058-75f2bb20d268",
   "metadata": {},
   "outputs": [
    {
     "name": "stdout",
     "output_type": "stream",
     "text": [
      "{'라면': 1200, '음료수': 5000, '과자': 800}\n"
     ]
    }
   ],
   "source": [
    "mart = {'라면' : 1200, '음료수' : 1500, '과자' : 800}\n",
    "\n",
    "mart['음료수'] = 5000\n",
    "print(mart)\n"
   ]
  },
  {
   "cell_type": "code",
   "execution_count": null,
   "id": "bdc1638d-d63b-4e69-bf7d-5fe41527cdba",
   "metadata": {},
   "outputs": [],
   "source": []
  },
  {
   "cell_type": "code",
   "execution_count": 45,
   "id": "80cb9cde-1933-4e74-b244-661b502e157c",
   "metadata": {},
   "outputs": [
    {
     "name": "stdout",
     "output_type": "stream",
     "text": [
      "키와 값 추가 전 {'라면': 1200, '음료수': 1500, '과자': 800}\n",
      "키와 값 추가 후 :  {'라면': 1200, '음료수': 1500, '과자': 800, '삼각김밥': 1700}\n"
     ]
    }
   ],
   "source": [
    "mart = {'라면' : 1200, '음료수' : 1500, '과자' : 800}\n",
    "print('키와 값 추가 전', mart)\n",
    "\n",
    "mart['삼각김밥'] = 1700\n",
    "print('키와 값 추가 후 : ', mart)"
   ]
  },
  {
   "cell_type": "code",
   "execution_count": 47,
   "id": "4066a53a-96eb-405b-b7d4-ace6a5c69aa1",
   "metadata": {},
   "outputs": [
    {
     "name": "stdout",
     "output_type": "stream",
     "text": [
      "dict_keys(['라면', '음료수', '과자'])\n",
      "dict_values([1200, 1500, 800])\n",
      "dict_items([('라면', 1200), ('음료수', 1500), ('과자', 800)])\n"
     ]
    }
   ],
   "source": [
    "mart = {'라면': 1200, '음료수' : 1500, '과자': 800}\n",
    "\n",
    "print(mart.keys())\n",
    "print(mart.values())\n",
    "print(mart.items())"
   ]
  },
  {
   "cell_type": "code",
   "execution_count": 48,
   "id": "ca0bdfcf-c5f0-472e-a45b-0e5537639046",
   "metadata": {},
   "outputs": [
    {
     "name": "stdout",
     "output_type": "stream",
     "text": [
      "라면\n",
      "음료수\n",
      "과자\n"
     ]
    }
   ],
   "source": [
    "mart = {'라면' :1200, '음료수' : 1500, '과자' : 800}\n",
    "\n",
    "for key in mart.keys() : \n",
    "    print(key)"
   ]
  },
  {
   "cell_type": "code",
   "execution_count": 49,
   "id": "b8059dde-e156-4068-8375-79068c2635d8",
   "metadata": {},
   "outputs": [
    {
     "name": "stdout",
     "output_type": "stream",
     "text": [
      "1200\n",
      "1500\n",
      "800\n"
     ]
    }
   ],
   "source": [
    "mart = {'라면' : 1200, '음료수':1500, '과자':800}\n",
    "\n",
    "for v in mart.values() : \n",
    "    print(v)\n",
    "    "
   ]
  },
  {
   "cell_type": "code",
   "execution_count": 52,
   "id": "3ca5e89a-0732-4536-81d3-5dc58ab4b450",
   "metadata": {},
   "outputs": [
    {
     "name": "stdout",
     "output_type": "stream",
     "text": [
      "라면 1200\n",
      "음료수 1500\n",
      "과자 800\n"
     ]
    }
   ],
   "source": [
    "for 항목, 값 in mart.items() : \n",
    "    print(항목, 값)"
   ]
  },
  {
   "cell_type": "code",
   "execution_count": 53,
   "id": "b87af70a-ef9b-4010-8a8c-cac9442f6bd2",
   "metadata": {},
   "outputs": [
    {
     "name": "stdout",
     "output_type": "stream",
     "text": [
      "키와 값 추가 전 :  {'라면': 1200, '음료수': 1500, '과자': 800}\n",
      "키와 값 추가 후 :  {'라면': 1200, '음료수': 1500, '과자': 800, ('삼각김밥', '단무지'): 1700}\n"
     ]
    }
   ],
   "source": [
    "print('키와 값 추가 전 : ', mart)\n",
    "\n",
    "mart[('삼각김밥', '단무지')] = 1700\n",
    "print('키와 값 추가 후 : ',mart)"
   ]
  },
  {
   "cell_type": "code",
   "execution_count": 54,
   "id": "a5e1573b-34be-432e-bc87-18f465f7f70a",
   "metadata": {},
   "outputs": [
    {
     "name": "stdout",
     "output_type": "stream",
     "text": [
      "{'오렌지', '사과', '배'} <class 'set'>\n"
     ]
    }
   ],
   "source": [
    "basket = {'사과', '오렌지', '사과', '배'}\n",
    "print(basket, type(basket))"
   ]
  },
  {
   "cell_type": "code",
   "execution_count": 56,
   "id": "362163a8-087d-412c-9a01-b9edccc504fc",
   "metadata": {},
   "outputs": [
    {
     "ename": "TypeError",
     "evalue": "'set' object is not subscriptable",
     "output_type": "error",
     "traceback": [
      "\u001b[1;31m---------------------------------------------------------------------------\u001b[0m",
      "\u001b[1;31mTypeError\u001b[0m                                 Traceback (most recent call last)",
      "Cell \u001b[1;32mIn[56], line 1\u001b[0m\n\u001b[1;32m----> 1\u001b[0m \u001b[38;5;28mprint\u001b[39m(basket[\u001b[38;5;241m0\u001b[39m])\n",
      "\u001b[1;31mTypeError\u001b[0m: 'set' object is not subscriptable"
     ]
    }
   ],
   "source": [
    "print(basket[0])"
   ]
  },
  {
   "cell_type": "code",
   "execution_count": 58,
   "id": "277f21ff-b6d9-4db3-87e5-0fcc9237498e",
   "metadata": {},
   "outputs": [
    {
     "name": "stdout",
     "output_type": "stream",
     "text": [
      "항목 추가 전: {'오렌지', '사과', '배'}\n",
      "항목 추가 후 : {'오렌지', ('딸기', '바나나'), '사과', '배'}\n"
     ]
    }
   ],
   "source": [
    "basket = {'사과', '오렌지', '배'}\n",
    "print(f'항목 추가 전: {basket}')\n",
    "\n",
    "basket.add(('딸기', '바나나'))\n",
    "print(f'항목 추가 후 : {basket}')"
   ]
  },
  {
   "cell_type": "code",
   "execution_count": 64,
   "id": "cbd1a4bc-6821-423e-bc54-181d20a2a1fb",
   "metadata": {},
   "outputs": [
    {
     "name": "stdout",
     "output_type": "stream",
     "text": [
      "{1, 2, 3, 4, 5, 6}\n",
      "{3, 4}\n",
      "{1, 2}\n",
      "{1, 2, 5, 6}\n"
     ]
    }
   ],
   "source": [
    "A = {1,2,3,4}\n",
    "B = {3,4,5,6}\n",
    "print(A | B)\n",
    "print(A & B)\n",
    "print(A - B)\n",
    "print(A ^ B)"
   ]
  },
  {
   "cell_type": "code",
   "execution_count": 63,
   "id": "12c61390-6531-4fde-ae16-59977ce745df",
   "metadata": {},
   "outputs": [
    {
     "name": "stdout",
     "output_type": "stream",
     "text": [
      "1777248604304\n",
      "1777248604400\n"
     ]
    }
   ],
   "source": [
    "print(id(x))\n",
    "x= x + 500\n",
    "print(id(x))"
   ]
  },
  {
   "cell_type": "code",
   "execution_count": 66,
   "id": "9b547671-86e3-4c87-8b35-1c6427fa5364",
   "metadata": {},
   "outputs": [
    {
     "name": "stdout",
     "output_type": "stream",
     "text": [
      "10 20\n"
     ]
    }
   ],
   "source": [
    "a , b = 10, 20 \n",
    "print(a, b)"
   ]
  },
  {
   "cell_type": "code",
   "execution_count": 67,
   "id": "98a37566-fdfb-4ecc-a997-62c8424e824e",
   "metadata": {},
   "outputs": [
    {
     "name": "stdout",
     "output_type": "stream",
     "text": [
      "7 140728322435704 <class 'int'>\n"
     ]
    }
   ],
   "source": [
    "num = int(7)\n",
    "\n",
    "print(num, id(num), type(num))"
   ]
  },
  {
   "cell_type": "code",
   "execution_count": 68,
   "id": "276dd466-57b6-45ea-b161-5bbb4ef7da57",
   "metadata": {},
   "outputs": [
    {
     "name": "stdout",
     "output_type": "stream",
     "text": [
      "140728322435704\n",
      "140728322435736\n"
     ]
    }
   ],
   "source": [
    "num = 7 \n",
    "print(id(num))\n",
    "\n",
    "num = num + 1\n",
    "print(id(num))"
   ]
  },
  {
   "cell_type": "code",
   "execution_count": 69,
   "id": "74adebea-2822-4193-8a3f-2e4d8c189b34",
   "metadata": {},
   "outputs": [
    {
     "name": "stdout",
     "output_type": "stream",
     "text": [
      "140728322435800 140728322435800\n",
      "140728322435832 140728322435800\n"
     ]
    }
   ],
   "source": [
    "a = b = 10\n",
    "print(id(a), id(b))\n",
    "\n",
    "a = a+1\n",
    "print(id(a), id(b))"
   ]
  },
  {
   "cell_type": "code",
   "execution_count": 70,
   "id": "d1354055-b97d-4ae2-915a-900919b92a38",
   "metadata": {},
   "outputs": [
    {
     "name": "stdout",
     "output_type": "stream",
     "text": [
      "1777248604848 1777248604624\n"
     ]
    }
   ],
   "source": [
    "x = 300\n",
    "y = 300\n",
    "\n",
    "print(id(x), id(y))s\n"
   ]
  },
  {
   "cell_type": "markdown",
   "id": "c3c76623-7cbc-442f-8b1c-7a287944406c",
   "metadata": {},
   "source": [
    "###Lecture 1 : 표준입력과 표준 출력"
   ]
  },
  {
   "cell_type": "code",
   "execution_count": 109,
   "id": "9b87d737-7dde-447e-9416-49d9ad61299a",
   "metadata": {},
   "outputs": [
    {
     "name": "stdin",
     "output_type": "stream",
     "text": [
      "실수로 가로 길이 입력  >>  3\n",
      "정수로 세로 길이 입력 >>  4\n"
     ]
    },
    {
     "name": "stdout",
     "output_type": "stream",
     "text": [
      "가로 :  3.0\n",
      "세로 :  4\n",
      "삼각형 넓이는 :  6.0\n",
      "사각형 넓이는 :  12.0\n"
     ]
    }
   ],
   "source": [
    "width = float(input(\"실수로 가로 길이 입력  >> \"))\n",
    "height = int(input(\"정수로 세로 길이 입력 >> \"))\n",
    "print(\"가로 : \", width)\n",
    "print(\"세로 : \", height)\n",
    "\n",
    "area = height * width\n",
    "print(\"삼각형 넓이는 : \", area/2);\n",
    "print(\"사각형 넓이는 : \", area);"
   ]
  },
  {
   "cell_type": "code",
   "execution_count": 78,
   "id": "49575754-6403-4dc7-a63c-2c940e15a634",
   "metadata": {},
   "outputs": [
    {
     "name": "stdout",
     "output_type": "stream",
     "text": [
      "가로 : 3, 세로 : 6, 면적 : 18\n"
     ]
    }
   ],
   "source": [
    "width, height = 3, 6\n",
    "print('가로 : {}, 세로 : {}, 면적 : {}'.format(width, height, width *height))"
   ]
  },
  {
   "cell_type": "code",
   "execution_count": 98,
   "id": "45513d4a-78d9-4a78-9ffc-bd51e7a17565",
   "metadata": {},
   "outputs": [
    {
     "name": "stdin",
     "output_type": "stream",
     "text": [
      "마일을 입력하시오 >> 80\n"
     ]
    },
    {
     "name": "stdout",
     "output_type": "stream",
     "text": [
      "80.0은 128.0킬로미터입니다.\n"
     ]
    }
   ],
   "source": [
    "mile = float(input(\"마일을 입력하시오 >>\"))\n",
    "kil = mile * 1.6\n",
    "\n",
    "print('{}은 {}킬로미터입니다.'.format(mile, kil))"
   ]
  },
  {
   "cell_type": "code",
   "execution_count": 111,
   "id": "d3081b4d-0928-4709-81db-618555614bc1",
   "metadata": {},
   "outputs": [
    {
     "name": "stdout",
     "output_type": "stream",
     "text": [
      "가로 : 3, 세로 : 6, 사각형 면적 : 18\n",
      "가로 : 3, 세로 : 6, 사각형면적 : 18\n",
      "가로 : 3, 세로 : 6, 사각형 면적 : 18\n",
      "반지름 : 5.78, 원면적 : 104.902376\n",
      "반지름 : 5.78, 원둘레 : 36.2984\n"
     ]
    }
   ],
   "source": [
    "width, height = 3, 6\n",
    "\n",
    "print('가로 : {}, 세로 : {}, 사각형 면적 : {}'.format(width, height, width*height))\n",
    "\n",
    "print('가로 : {0}, 세로 : {1}, 사각형면적 : {2}'.format(width, height, width*height))\n",
    "print('가로 : {w}, 세로 : {h}, 사각형 면적 : {area}'.format(w = width, h = height, area =  width*height))\n",
    "\n",
    "pi, radius = 3.14, 5.78\n",
    "print(f'반지름 : {radius}, 원면적 : {radius*radius*pi}')\n",
    "print(f'반지름 : {radius}, 원둘레 : {2*pi*radius}')"
   ]
  },
  {
   "cell_type": "code",
   "execution_count": 110,
   "id": "e7817426-a8fb-4738-8a3f-2feb1b775369",
   "metadata": {},
   "outputs": [
    {
     "name": "stdout",
     "output_type": "stream",
     "text": [
      "math.pi : 3.1416 math.e : 2.7183\n"
     ]
    },
    {
     "name": "stdin",
     "output_type": "stream",
     "text": [
      "원의 반지름 입력 :  5\n"
     ]
    },
    {
     "name": "stdout",
     "output_type": "stream",
     "text": [
      "원의 둘레는      31.42입니다.\n",
      "원의 넓이는      78.54입니다.\n"
     ]
    }
   ],
   "source": [
    "import math\n",
    "\n",
    "print('math.pi : {:.4f} math.e : {:.4f}'.format(math.pi, math.e))\n",
    "\n",
    "radius = float(input(\"원의 반지름 입력 : \"))\n",
    "\n",
    "area = math.pi *radius **2\n",
    "print(f\"원의 둘레는 {2*math.pi*radius : 10.2f}입니다.\")\n",
    "print(f\"원의 넓이는 {area: 10.2f}입니다.\")"
   ]
  },
  {
   "cell_type": "code",
   "execution_count": null,
   "id": "a3dbf2c5-6247-4fa5-a69e-afd349e0b279",
   "metadata": {},
   "outputs": [],
   "source": []
  }
 ],
 "metadata": {
  "kernelspec": {
   "display_name": "Python 3 (ipykernel)",
   "language": "python",
   "name": "python3"
  },
  "language_info": {
   "codemirror_mode": {
    "name": "ipython",
    "version": 3
   },
   "file_extension": ".py",
   "mimetype": "text/x-python",
   "name": "python",
   "nbconvert_exporter": "python",
   "pygments_lexer": "ipython3",
   "version": "3.12.7"
  }
 },
 "nbformat": 4,
 "nbformat_minor": 5
}
