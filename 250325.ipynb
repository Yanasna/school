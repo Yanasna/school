{
 "cells": [
  {
   "cell_type": "code",
   "execution_count": 5,
   "id": "f0b1d8aa-b4c1-4f5e-a00f-f3d029089ff5",
   "metadata": {},
   "outputs": [
    {
     "name": "stdout",
     "output_type": "stream",
     "text": [
      "[2, 3, 4, 5]\n"
     ]
    }
   ],
   "source": [
    "lst = [1,2,3,4]\n",
    "\n",
    "p = map(lambda x : x + 1, lst)\n",
    "\n",
    "print(list(p))"
   ]
  },
  {
   "cell_type": "code",
   "execution_count": 14,
   "id": "c06c53e3-7913-4d9f-8e34-d83be819a69d",
   "metadata": {},
   "outputs": [
    {
     "name": "stdin",
     "output_type": "stream",
     "text": [
      "이메일 주소를 입력하세요 :  12341@naver.com\n"
     ]
    },
    {
     "name": "stdout",
     "output_type": "stream",
     "text": [
      "유효\n"
     ]
    },
    {
     "name": "stdin",
     "output_type": "stream",
     "text": [
      "이메일 주소를 입력하세요 :  quit\n"
     ]
    }
   ],
   "source": [
    "while True : \n",
    "    email = input(\"이메일 주소를 입력하세요 : \")\n",
    "\n",
    "    if email == 'quit' : \n",
    "        break\n",
    "    else : \n",
    "        if email.count('@') >= 1 : \n",
    "            print(\"유효\")\n",
    "        else : \n",
    "            print('오류')"
   ]
  },
  {
   "cell_type": "code",
   "execution_count": 8,
   "id": "a4a1dc49-a7a5-4bdf-83d6-7fed52c1dead",
   "metadata": {},
   "outputs": [
    {
     "name": "stdout",
     "output_type": "stream",
     "text": [
      "1개 이상\n"
     ]
    }
   ],
   "source": [
    "s = \"간장 공장 공장장\"\n",
    "\n",
    "if s.count('공장') > 1 : \n",
    "    print('1개 이상')"
   ]
  },
  {
   "cell_type": "code",
   "execution_count": 85,
   "id": "48f3d7d5-7973-4ae7-9254-80837f1fd97b",
   "metadata": {},
   "outputs": [
    {
     "name": "stdin",
     "output_type": "stream",
     "text": [
      "이메일 주소를 입력하세요 :  as@.com\n"
     ]
    },
    {
     "name": "stdout",
     "output_type": "stream",
     "text": [
      "유효\n"
     ]
    },
    {
     "name": "stdin",
     "output_type": "stream",
     "text": [
      "이메일 주소를 입력하세요 :  as.com\n"
     ]
    },
    {
     "name": "stdout",
     "output_type": "stream",
     "text": [
      "무효\n"
     ]
    },
    {
     "name": "stdin",
     "output_type": "stream",
     "text": [
      "이메일 주소를 입력하세요 :  quiz\n"
     ]
    },
    {
     "name": "stdout",
     "output_type": "stream",
     "text": [
      "무효\n"
     ]
    },
    {
     "name": "stdin",
     "output_type": "stream",
     "text": [
      "이메일 주소를 입력하세요 :  quit\n"
     ]
    }
   ],
   "source": [
    "while True : \n",
    "    email = input(\"이메일 주소를 입력하세요 : \")\n",
    "\n",
    "    if email == 'quit' : \n",
    "        break\n",
    "    else : \n",
    "        if email.find('@') + 1 == email.find('.') and email.count('@') >= 1 :\n",
    "            print('유효')\n",
    "        else : \n",
    "            print('무효')"
   ]
  },
  {
   "cell_type": "code",
   "execution_count": 74,
   "id": "e3e6b009-e17c-4155-a796-5eb5e8ff5ad9",
   "metadata": {},
   "outputs": [
    {
     "name": "stdin",
     "output_type": "stream",
     "text": [
      "문자열을 입력하세요 :  https://www.google.com\n"
     ]
    },
    {
     "name": "stdout",
     "output_type": "stream",
     "text": [
      "['https://www', 'google.com']\n",
      "도메인 이름 :  google.com\n"
     ]
    }
   ],
   "source": [
    "url = input(\"문자열을 입력하세요 : \")\n",
    "\n",
    "x = url.split('.', 1)\n",
    "print(x)\n",
    "y = x[1].split('/index.jsp')\n",
    "domain = y[0]\n",
    "\n",
    "print(\"도메인 이름 : \", domain)"
   ]
  },
  {
   "cell_type": "code",
   "execution_count": 95,
   "id": "2ddbd1c3-1a9d-4d9b-930b-4c70c2e49d48",
   "metadata": {},
   "outputs": [
    {
     "name": "stdin",
     "output_type": "stream",
     "text": [
      "문자열을 입력하세요  :  abc\n"
     ]
    },
    {
     "name": "stdout",
     "output_type": "stream",
     "text": [
      "암호화된 문자열 cde\n"
     ]
    }
   ],
   "source": [
    "text = input(\"문자열을 입력하세요  : \")\n",
    "\n",
    "encrypted = []\n",
    "\n",
    "for char in text : \n",
    "    encrypted.append(chr(ord(char) + 2))\n",
    "    \n",
    "''.join(encrypted)\n",
    "print(\"암호화된 문자열\", ''.join(encrypted))"
   ]
  },
  {
   "cell_type": "code",
   "execution_count": 63,
   "id": "57a0a06d-6944-4844-8d04-6aa73296eec5",
   "metadata": {},
   "outputs": [
    {
     "name": "stdout",
     "output_type": "stream",
     "text": [
      "65 A\n"
     ]
    }
   ],
   "source": [
    "c = 'A'\n",
    "a = ord(c)\n",
    "b = chr(a)\n",
    "\n",
    "print(a, b)"
   ]
  },
  {
   "cell_type": "code",
   "execution_count": 114,
   "id": "cca43279-73ee-4efb-9448-ee2ae943b18d",
   "metadata": {},
   "outputs": [
    {
     "name": "stdout",
     "output_type": "stream",
     "text": [
      "여러 문장을 입력하세요.(빈 줄 입력 시 종료) \n"
     ]
    },
    {
     "name": "stdin",
     "output_type": "stream",
     "text": [
      "문장 입력 :  like Programming\n"
     ]
    },
    {
     "name": "stdout",
     "output_type": "stream",
     "text": [
      "like Programming ['like Programming']\n"
     ]
    },
    {
     "name": "stdin",
     "output_type": "stream",
     "text": [
      "문장 입력 :  \n"
     ]
    },
    {
     "name": "stdout",
     "output_type": "stream",
     "text": [
      "\n",
      "정렬된 문장 :\n",
      "Programming like\n"
     ]
    }
   ],
   "source": [
    "sentences = []\n",
    "\n",
    "print(\"여러 문장을 입력하세요.(빈 줄 입력 시 종료) \")\n",
    "\n",
    "while True : \n",
    "    sentence = input(\"문장 입력 : \")\n",
    "    if not sentence.strip() : \n",
    "        break\n",
    "    sentences.append(sentence)\n",
    "    print(sentence, sentences)\n",
    "print(\"\\n정렬된 문장 :\")\n",
    "A = []\n",
    "try  :\n",
    "    if not sentences : \n",
    "        print(\"입력이 비었음\")\n",
    "for sentence in sentences : \n",
    "    A = sentence.split()\n",
    "\n",
    "    A.sort() \n",
    "    sorted_sentence = ' '.join(A)\n",
    "    print(sorted_sentence)\n",
    "        ##if ord(A(sentence)) > ord(A(sentence + 1)) : \n",
    "        ##max = A(sentence)\n",
    "   ## else : \n",
    "      ##  max = A(sentence + 1)\n",
    "   ## print(max)\n",
    "\n",
    "Except exception e\n",
    "    print"
   ]
  },
  {
   "cell_type": "code",
   "execution_count": null,
   "id": "e72b66fb-6c59-4b91-a30f-0c73146a6608",
   "metadata": {},
   "outputs": [],
   "source": []
  }
 ],
 "metadata": {
  "kernelspec": {
   "display_name": "Python 3 (ipykernel)",
   "language": "python",
   "name": "python3"
  },
  "language_info": {
   "codemirror_mode": {
    "name": "ipython",
    "version": 3
   },
   "file_extension": ".py",
   "mimetype": "text/x-python",
   "name": "python",
   "nbconvert_exporter": "python",
   "pygments_lexer": "ipython3",
   "version": "3.12.7"
  }
 },
 "nbformat": 4,
 "nbformat_minor": 5
}
