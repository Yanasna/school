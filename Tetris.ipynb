{
 "cells": [
  {
   "cell_type": "code",
   "execution_count": null,
   "id": "43ba9be1-160a-4683-836f-88c182a3372c",
   "metadata": {},
   "outputs": [
    {
     "ename": "ModuleNotFoundError",
     "evalue": "No module named 'pygame'",
     "output_type": "error",
     "traceback": [
      "\u001b[1;31m---------------------------------------------------------------------------\u001b[0m",
      "\u001b[1;31mModuleNotFoundError\u001b[0m                       Traceback (most recent call last)",
      "Cell \u001b[1;32mIn[7], line 1\u001b[0m\n\u001b[1;32m----> 1\u001b[0m \u001b[38;5;28;01mimport\u001b[39;00m \u001b[38;5;21;01mpygame\u001b[39;00m\n\u001b[0;32m      2\u001b[0m \u001b[38;5;28;01mimport\u001b[39;00m \u001b[38;5;21;01mrandom\u001b[39;00m\n\u001b[0;32m      4\u001b[0m Pygame\u001b[38;5;241m.\u001b[39minit()\n",
      "\u001b[1;31mModuleNotFoundError\u001b[0m: No module named 'pygame'"
     ]
    }
   ],
   "source": [
    "import pygame\n",
    "import random\n",
    "\n",
    "pygame.init()\n",
    "\n",
    "WIDTH, HEIGHT = 300, 600\n",
    "ROWS, COLS = 20, 10 \n",
    "BLOCK_SIZE = WIDTH // COLS\n",
    "\n",
    "WHITE = (255, 255, 255)\n",
    "BLACK = (0, 0, 0)\n",
    "BLUE = (0, 0, 255)\n",
    "\n",
    "SHAPES = [\n",
    "    [[1, 1, 1, 1]],\n",
    "    [[1,1], [1, 1]],\n",
    "    [[0, 1 , 0], [1, 1, 1]],\n",
    "    [[0, 1, 1],[1, 1, 0]],\n",
    "    [[1,1,0], [0, 1, 1]],\n",
    "    [[1, 0, 0], [1, 1, 1 ]],\n",
    "    [[0, 0, 1], [1, 1, 1]],\n",
    "]\n",
    "\n",
    "def create_board(): \n",
    "    return [[0 for _ in range(COLS)] for _ in range(ROWS)]\n",
    "\n",
    "def draw_block(screen, shape, x, y) : \n",
    "    for row_idx, row in enumerate(shape) :\n",
    "        for col_idx, cell in enumerate(row) : \n",
    "            if cell :  \n",
    "                pygame.draw.rect(\n",
    "                    screen,\n",
    "                    BLUE,\n",
    "                    (x + col_idx * BLOCK_SIZE, y + row_idx * BLOCK_SIZE, BLOCK_SIZE, BLOCK_SIZE),\n",
    "                )\n",
    "def main():\n",
    "    screen = pygame.display.set_mode((WIDTH, HEIGHT))\n",
    "    pygame.display.set_caption(\"Tetris\")\n",
    "\n",
    "    clock = pygame.time.Clock()\n",
    "    board = create_board()\n",
    "    running = True\n",
    "\n",
    "    current_block = random.choices(SHAPES)\n",
    "    block_x, block_y = 4 * BLOCK_SIZE, 0\n",
    "\n",
    "    while running: \n",
    "        screen.fill(BLACK)\n",
    "\n",
    "        for event in pygame.event.get() : \n",
    "            if event.type == pygame.QUIT : \n",
    "                running = False\n",
    "\n",
    "        keys = pygame.key.get_pressed()\n",
    "        if keys[pygame.K_LEFT] : \n",
    "            block_x -= BLOCK_SIZE\n",
    "        if keys[pygame.K_RIGHT] : \n",
    "            block_x += BLOCK_SIZE\n",
    "        if keys[pygame.K_DOWN] : \n",
    "            block_y += BLOCK_SIZE\n",
    "\n",
    "        draw_block(screen, current_block, block_x, block_y)\n",
    "\n",
    "        pygame.display.flip()\n",
    "        clock.tick(10)\n",
    "\n",
    "    pygame.quit()\n",
    "\n",
    "if __name__ == \"__main__\":\n",
    "    main()"
   ]
  },
  {
   "cell_type": "code",
   "execution_count": null,
   "id": "1d554b37-b85a-4487-90e4-0477f751bb52",
   "metadata": {},
   "outputs": [],
   "source": []
  },
  {
   "cell_type": "code",
   "execution_count": null,
   "id": "3be4b8a4-0389-4132-bd5f-ee2a18541910",
   "metadata": {},
   "outputs": [],
   "source": []
  },
  {
   "cell_type": "code",
   "execution_count": null,
   "id": "13e8139c-0497-456a-bef7-b115d9e57fa3",
   "metadata": {},
   "outputs": [],
   "source": []
  },
  {
   "cell_type": "code",
   "execution_count": null,
   "id": "73833e72-3c0d-4f7a-af86-75ac1cb6118c",
   "metadata": {},
   "outputs": [],
   "source": []
  },
  {
   "cell_type": "code",
   "execution_count": null,
   "id": "cb5a35e9-83b3-4f2f-baa9-bc16255143d4",
   "metadata": {},
   "outputs": [],
   "source": []
  },
  {
   "cell_type": "code",
   "execution_count": null,
   "id": "9b38c9d2-df2e-4ba2-8535-2e4d66741bcd",
   "metadata": {},
   "outputs": [],
   "source": []
  },
  {
   "cell_type": "code",
   "execution_count": null,
   "id": "e4b1195a-f658-4433-85c5-0e0c41254246",
   "metadata": {},
   "outputs": [],
   "source": []
  },
  {
   "cell_type": "code",
   "execution_count": null,
   "id": "8ce6bcd4-5afc-49fb-869e-87c7b655b5fd",
   "metadata": {},
   "outputs": [],
   "source": []
  }
 ],
 "metadata": {
  "kernelspec": {
   "display_name": "Python 3 (ipykernel)",
   "language": "python",
   "name": "python3"
  },
  "language_info": {
   "codemirror_mode": {
    "name": "ipython",
    "version": 3
   },
   "file_extension": ".py",
   "mimetype": "text/x-python",
   "name": "python",
   "nbconvert_exporter": "python",
   "pygments_lexer": "ipython3",
   "version": "3.12.7"
  }
 },
 "nbformat": 4,
 "nbformat_minor": 5
}
