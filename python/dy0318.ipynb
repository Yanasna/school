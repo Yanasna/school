{
 "cells": [
  {
   "cell_type": "code",
   "execution_count": 6,
   "id": "aba1be8f-da46-4241-8cd4-9fda1f5fd2b0",
   "metadata": {},
   "outputs": [
    {
     "name": "stdin",
     "output_type": "stream",
     "text": [
      "섭씨온도를 입력하세요 :  3\n"
     ]
    },
    {
     "name": "stdout",
     "output_type": "stream",
     "text": [
      "3.0도는 화씨로 37.40도 입니다.\n"
     ]
    },
    {
     "name": "stdin",
     "output_type": "stream",
     "text": [
      "화씨 온도를 입력하세요 :  4\n"
     ]
    },
    {
     "name": "stdout",
     "output_type": "stream",
     "text": [
      "4.0도는 화씨로 -15.56도 입니다.\n"
     ]
    }
   ],
   "source": [
    "def c_to_fahrenheit(celsuus) : \n",
    "    fahrenheit = (celsius * 9/5) + 32\n",
    "    return fahrenheit\n",
    "\n",
    "def f_to_celsius(fahrenheit) : \n",
    "    celsius = (fahrenheit -32) * 5/9\n",
    "    return celsius\n",
    "\n",
    "celsius = float(input(\"섭씨온도를 입력하세요 : \"))\n",
    "fahrenheit = c_to_fahrenheit(celsius)\n",
    "\n",
    "print(f\"{celsius}도는 화씨로 {fahrenheit:.2f}도 입니다.\")\n",
    "\n",
    "fahrenheit = float(input(\"화씨 온도를 입력하세요 : \"))\n",
    "\n",
    "celsius = f_to_celsius(fahrenheit)\n",
    "\n",
    "print(f\"{fahrenheit}도는 화씨로 {celsius:.2f}도 입니다.\")"
   ]
  },
  {
   "cell_type": "code",
   "execution_count": 7,
   "id": "87044516-005d-4746-afbe-615172521064",
   "metadata": {},
   "outputs": [
    {
     "name": "stdout",
     "output_type": "stream",
     "text": [
      "10 + 1 -> 11\n",
      "10 + 5 -> 15\n",
      "10 * 5 -> 50\n"
     ]
    }
   ],
   "source": [
    "add1 = lambda x : x+1\n",
    "add2 = lambda x, y : x + y\n",
    "mult2 = lambda x, y : x*y\n",
    "\n",
    "a, b = 10, 5\n",
    "print(f'{a} + {1} -> {add1(a)}')\n",
    "print(f'{a} + {b} -> {add2(a, b)}')\n",
    "print(f'{a} * {b} -> {mult2(a, b)}')"
   ]
  },
  {
   "cell_type": "code",
   "execution_count": 8,
   "id": "e8f6d8a4-bd44-4169-9fcb-a9c791101c79",
   "metadata": {},
   "outputs": [
    {
     "name": "stdout",
     "output_type": "stream",
     "text": [
      "[3, 4, 5, 6]\n"
     ]
    }
   ],
   "source": [
    "lst = [2,3,4,5]\n",
    "new_lst = map(lambda x : x+ 1, lst)\n",
    "print(list(new_lst))"
   ]
  },
  {
   "cell_type": "code",
   "execution_count": 30,
   "id": "392d4ff2-3966-41a8-af10-55a07a0dc83d",
   "metadata": {},
   "outputs": [
    {
     "name": "stdin",
     "output_type": "stream",
     "text": [
      "숫자 열을 입력하세요 :  3 4 5 6\n"
     ]
    },
    {
     "name": "stdout",
     "output_type": "stream",
     "text": [
      "3 4 5 6 <class 'str'>\n",
      "3 <class 'str'>\n",
      "[3] <class 'int'>\n",
      "4 <class 'str'>\n",
      "[3, 4] <class 'int'>\n",
      "5 <class 'str'>\n",
      "[3, 4, 5] <class 'int'>\n",
      "6 <class 'str'>\n",
      "[3, 4, 5, 6] <class 'int'>\n"
     ]
    },
    {
     "name": "stdin",
     "output_type": "stream",
     "text": [
      "숫자 열을 입력하세요  1 2 7 8 \n"
     ]
    },
    {
     "name": "stdout",
     "output_type": "stream",
     "text": [
      "[1, 2, 7, 8] <class 'int'>\n"
     ]
    }
   ],
   "source": [
    "data = input(\"숫자 열을 입력하세요 : \")\n",
    "print(data, type(data))\n",
    "\n",
    "my_data = []\n",
    "for item in data.split() : \n",
    "    print(item, type(item))\n",
    "    my_data.append(int(item))\n",
    "    print(my_data, type(my_data[0]))\n",
    "\n",
    "data  = list(map(int, input(\"숫자 열을 입력하세요 \").split()))\n",
    "print(data, type(data[0]))"
   ]
  },
  {
   "cell_type": "code",
   "execution_count": 19,
   "id": "d52718a2-ceb2-4815-9636-acd3902a6f94",
   "metadata": {},
   "outputs": [
    {
     "name": "stdout",
     "output_type": "stream",
     "text": [
      "[2, 4, 6, 8, 10]\n"
     ]
    }
   ],
   "source": [
    "lst = [1,2,3,4,5,6,7,8,9,10]\n",
    "my_lst = filter(lambda x : x%2 == 0, lst)\n",
    "print(list(my_lst))"
   ]
  },
  {
   "cell_type": "code",
   "execution_count": 20,
   "id": "c240978d-3a35-440d-ae9d-17ac97f91398",
   "metadata": {},
   "outputs": [
    {
     "name": "stdout",
     "output_type": "stream",
     "text": [
      "[1, 4, 9, 16, 25]\n"
     ]
    }
   ],
   "source": [
    "def square(x) : \n",
    "    return x**2\n",
    "\n",
    "numbers = [1, 2, 3,4,5]\n",
    "squared_numbers = map(square, numbers)\n",
    "print(list(squared_numbers))"
   ]
  },
  {
   "cell_type": "code",
   "execution_count": 21,
   "id": "dccfd106-0493-4f45-8dfd-dae4a539032b",
   "metadata": {},
   "outputs": [
    {
     "name": "stdout",
     "output_type": "stream",
     "text": [
      "[3, 7, 11, 15]\n"
     ]
    }
   ],
   "source": [
    "in1 = [1,3,5,7]\n",
    "in2 = [2,4,6,8]\n",
    "\n",
    "pr =list(map(lambda x, y : x+y, in1, in2))\n",
    "\n",
    "print(pr)"
   ]
  },
  {
   "cell_type": "code",
   "execution_count": 29,
   "id": "c7d89b2b-5cd6-468a-8d4d-399c55f1dfe7",
   "metadata": {},
   "outputs": [
    {
     "name": "stdout",
     "output_type": "stream",
     "text": [
      "[6, 8, 10, 12]\n"
     ]
    }
   ],
   "source": [
    "in3 = [1, 2, 3, 4]\n",
    "in4 = [5, 6, 7, 8]\n",
    "\n",
    "la = list(map(lambda a, b : a + b, in3, in4))\n",
    "print(la)"
   ]
  },
  {
   "cell_type": "code",
   "execution_count": 33,
   "id": "f23cb840-dbe9-4dbd-8f83-aace1e5ecad3",
   "metadata": {},
   "outputs": [
    {
     "name": "stdin",
     "output_type": "stream",
     "text": [
      "숫자입력 1 2 3 4\n"
     ]
    },
    {
     "name": "stdout",
     "output_type": "stream",
     "text": [
      "[1, 2, 3, 4]\n"
     ]
    }
   ],
   "source": [
    "data = list(map(int, input(\"숫자입력\").split()))\n",
    "print(data)"
   ]
  },
  {
   "cell_type": "code",
   "execution_count": 37,
   "id": "25b2a188-127e-4345-bd42-c8f8e43737b3",
   "metadata": {},
   "outputs": [
    {
     "name": "stdout",
     "output_type": "stream",
     "text": [
      "[5, 10]\n"
     ]
    }
   ],
   "source": [
    "lst = [1,2,3,4,5,6,7,8,9,10]\n",
    "my_list2 = filter(lambda x : x%5 == 0, lst)\n",
    "\n",
    "print(list(my_list2))"
   ]
  },
  {
   "cell_type": "code",
   "execution_count": 39,
   "id": "7ee7b012-b218-4116-bdf5-7a780a950ee1",
   "metadata": {},
   "outputs": [
    {
     "name": "stdout",
     "output_type": "stream",
     "text": [
      "Help on built-in function abs in module builtins:\n",
      "\n",
      "abs(x, /)\n",
      "    Return the absolute value of the argument.\n",
      "\n"
     ]
    }
   ],
   "source": [
    "help(abs)"
   ]
  },
  {
   "cell_type": "code",
   "execution_count": 40,
   "id": "85adc04b-3aba-4ff9-94bf-3c888a19e1f8",
   "metadata": {},
   "outputs": [
    {
     "data": {
      "text/plain": [
       "7"
      ]
     },
     "execution_count": 40,
     "metadata": {},
     "output_type": "execute_result"
    }
   ],
   "source": [
    "abs(-7)"
   ]
  },
  {
   "cell_type": "code",
   "execution_count": 41,
   "id": "a06d360c-aaa6-4d17-90cd-0647b3620dc1",
   "metadata": {},
   "outputs": [
    {
     "data": {
      "text/plain": [
       "16"
      ]
     },
     "execution_count": 41,
     "metadata": {},
     "output_type": "execute_result"
    }
   ],
   "source": [
    "pow(2, 4)"
   ]
  },
  {
   "cell_type": "raw",
   "id": "c571d716-0f82-4d07-b9cc-ce0cf639df03",
   "metadata": {},
   "source": [
    "round(3.141592, 3)"
   ]
  },
  {
   "cell_type": "code",
   "execution_count": 42,
   "id": "7ac04fd6-a6d0-4f1a-93c5-715c44536355",
   "metadata": {},
   "outputs": [
    {
     "data": {
      "text/plain": [
       "(3, 2)"
      ]
     },
     "execution_count": 42,
     "metadata": {},
     "output_type": "execute_result"
    }
   ],
   "source": [
    "divmod(20, 6)"
   ]
  },
  {
   "cell_type": "code",
   "execution_count": 43,
   "id": "b62274b1-e37f-45bf-b9bb-cf00bf02a272",
   "metadata": {},
   "outputs": [
    {
     "data": {
      "text/plain": [
       "2"
      ]
     },
     "execution_count": 43,
     "metadata": {},
     "output_type": "execute_result"
    }
   ],
   "source": [
    "min([3.4, 5, 2])"
   ]
  },
  {
   "cell_type": "code",
   "execution_count": 44,
   "id": "307b04dc-ed47-4cd2-a719-86651a0bae25",
   "metadata": {},
   "outputs": [
    {
     "data": {
      "text/plain": [
       "5"
      ]
     },
     "execution_count": 44,
     "metadata": {},
     "output_type": "execute_result"
    }
   ],
   "source": [
    "max((3.4, 5, 2))"
   ]
  },
  {
   "cell_type": "code",
   "execution_count": 45,
   "id": "3e206292-4591-4b5e-9910-23e6c622ff45",
   "metadata": {},
   "outputs": [
    {
     "data": {
      "text/plain": [
       "6"
      ]
     },
     "execution_count": 45,
     "metadata": {},
     "output_type": "execute_result"
    }
   ],
   "source": [
    "sum((1,2,3))"
   ]
  },
  {
   "cell_type": "code",
   "execution_count": 47,
   "id": "1a6805fb-1107-4559-a72f-4874b77e321b",
   "metadata": {},
   "outputs": [
    {
     "data": {
      "text/plain": [
       "6"
      ]
     },
     "execution_count": 47,
     "metadata": {},
     "output_type": "execute_result"
    }
   ],
   "source": [
    "sum([1,2,3])"
   ]
  },
  {
   "cell_type": "code",
   "execution_count": 48,
   "id": "dca0411d-14eb-4f40-9701-05aa38e3a41d",
   "metadata": {},
   "outputs": [
    {
     "data": {
      "text/plain": [
       "'0b10100'"
      ]
     },
     "execution_count": 48,
     "metadata": {},
     "output_type": "execute_result"
    }
   ],
   "source": [
    "bin(20)"
   ]
  },
  {
   "cell_type": "code",
   "execution_count": 49,
   "id": "6a445a20-657a-487d-8b7b-5b511203528e",
   "metadata": {},
   "outputs": [
    {
     "data": {
      "text/plain": [
       "[3, 5, 6, 9]"
      ]
     },
     "execution_count": 49,
     "metadata": {},
     "output_type": "execute_result"
    }
   ],
   "source": [
    "sorted([5,3,9,6])"
   ]
  },
  {
   "cell_type": "code",
   "execution_count": 50,
   "id": "bab44e0c-fb33-4100-958a-6e2d00fe9343",
   "metadata": {},
   "outputs": [
    {
     "data": {
      "text/plain": [
       "True"
      ]
     },
     "execution_count": 50,
     "metadata": {},
     "output_type": "execute_result"
    }
   ],
   "source": [
    "all([3, 5>3, 'py' in 'python', 3%2])"
   ]
  },
  {
   "cell_type": "code",
   "execution_count": 52,
   "id": "11bc70ad-766a-4bdd-9151-57341ef44709",
   "metadata": {},
   "outputs": [
    {
     "data": {
      "text/plain": [
       "True"
      ]
     },
     "execution_count": 52,
     "metadata": {},
     "output_type": "execute_result"
    }
   ],
   "source": [
    "any([0, 10 >= 1,  ''])"
   ]
  },
  {
   "cell_type": "code",
   "execution_count": 54,
   "id": "7b60c55f-70c0-41e3-b43f-bbc64fd15729",
   "metadata": {},
   "outputs": [
    {
     "name": "stdout",
     "output_type": "stream",
     "text": [
      "Help on built-in function any in module builtins:\n",
      "\n",
      "any(iterable, /)\n",
      "    Return True if bool(x) is True for any x in the iterable.\n",
      "\n",
      "    If the iterable is empty, return False.\n",
      "\n"
     ]
    }
   ],
   "source": [
    "help(any)"
   ]
  },
  {
   "cell_type": "code",
   "execution_count": 60,
   "id": "095d6a97-baa8-4116-adb8-8a241d20c401",
   "metadata": {},
   "outputs": [
    {
     "name": "stdout",
     "output_type": "stream",
     "text": [
      "다음 중 원하는 변환을 선택하세요 : \n",
      "1. 섭씨를 화씨로 변환\n",
      "2. 킬로미터를 마일로 변환 \n",
      "3. 파운드를 킬로그램으로 변환\n"
     ]
    },
    {
     "name": "stdin",
     "output_type": "stream",
     "text": [
      "\n",
      " 번호를 출력하시오 3\n",
      "변환할 값을 입력하시오 :  4\n"
     ]
    },
    {
     "name": "stdout",
     "output_type": "stream",
     "text": [
      "변환 결과 : 1.81\n"
     ]
    }
   ],
   "source": [
    "def celsius_to_fahrebheit(celsius) : \n",
    "    return(ceksius * 9/5) + 32\n",
    "\n",
    "def kilometers_to_miles(kilometers) : \n",
    "    return kilometers * 0.621371\n",
    "\n",
    "def pounds_to_kilograms(pounds) : \n",
    "    return pounds * 0.453592\n",
    "\n",
    "print(\"다음 중 원하는 변환을 선택하세요 : \")\n",
    "print(\"1. 섭씨를 화씨로 변환\")\n",
    "print(\"2. 킬로미터를 마일로 변환 \" )\n",
    "print(\"3. 파운드를 킬로그램으로 변환\")\n",
    "\n",
    "choice = int(input(\"\\n 번호를 출력하시오\"))\n",
    "\n",
    "if 1 <= choice <= 3 :\n",
    "    input_value = float(input(\"변환할 값을 입력하시오 : \"))\n",
    "    result = 0\n",
    "    if choice == 1 : \n",
    "        result = celsius_to_fahrenheit(input_value)\n",
    "    elif choice == 2 : \n",
    "        result = kilometers_to_miles(input_value)\n",
    "    elif choice == 3 : \n",
    "        result = pounds_to_kilograms(input_value)\n",
    "    print(f\"변환 결과 : {result:.2f}\")\n",
    "else :\n",
    "    print(\"올바른 번호를 선택하시오\")\n",
    "                              "
   ]
  },
  {
   "cell_type": "code",
   "execution_count": 75,
   "id": "ac93e6fd-2ba9-4ed6-9aae-21924ea62d71",
   "metadata": {},
   "outputs": [
    {
     "name": "stdin",
     "output_type": "stream",
     "text": [
      "정수1의 값을 입력하세요 :   3\n",
      "정수2의 값을 입력하세요 :   1\n",
      "정수3의 값을 입력하세요 :   2\n"
     ]
    },
    {
     "name": "stdout",
     "output_type": "stream",
     "text": [
      "3\n"
     ]
    }
   ],
   "source": [
    "input_1 = int(input(\"정수1의 값을 입력하세요 :  \"))\n",
    "input_2 = int(input(\"정수2의 값을 입력하세요 :  \"))\n",
    "input_3 = int(input(\"정수3의 값을 입력하세요 :  \"))\n",
    "\n",
    "max1 = input_1\n",
    "max1 = input_1 if max1 > input_2 else input_2\n",
    "\n",
    "max1 = max1 if max1 > input_3 else input_3\n",
    "\n",
    "print(max1)"
   ]
  },
  {
   "cell_type": "code",
   "execution_count": 83,
   "id": "77af7d13-1074-4fbb-abf7-46af65d736f8",
   "metadata": {},
   "outputs": [
    {
     "name": "stdin",
     "output_type": "stream",
     "text": [
      "정수1의 값을 입력하세요 :   4\n",
      "정수2의 값을 입력하세요 :   3\n",
      "정수3의 값을 입력하세요 :   2\n"
     ]
    },
    {
     "name": "stdout",
     "output_type": "stream",
     "text": [
      "4\n"
     ]
    }
   ],
   "source": [
    "num_1 = int(input(\"정수1의 값을 입력하세요 :  \"))\n",
    "num_2 = int(input(\"정수2의 값을 입력하세요 :  \"))\n",
    "num_3 = int(input(\"정수3의 값을 입력하세요 :  \"))\n",
    "             \n",
    "max2 = 0\n",
    "\n",
    "def my_max(n1, n2, n3) : \n",
    "    max2 = n1\n",
    "    max2 = n1 if max2 > n2 else n2\n",
    "    max2 = max2 if max2 > n3 else n3\n",
    "    return max2\n",
    "\n",
    "result = my_max(num_1, num_2, num_3)\n",
    "print(result)"
   ]
  },
  {
   "cell_type": "code",
   "execution_count": 89,
   "id": "30a98cd7-c6ff-4358-8841-f58d5f5df90d",
   "metadata": {},
   "outputs": [
    {
     "name": "stdout",
     "output_type": "stream",
     "text": [
      "\n",
      " 합은63\n"
     ]
    }
   ],
   "source": [
    "s = 0 \n",
    "for num in range(2, 21) : \n",
    "    if num%3 == 0 : \n",
    "        s += num\n",
    "print(f'\\n 합은{s}')"
   ]
  },
  {
   "cell_type": "code",
   "execution_count": 93,
   "id": "36da8929-238c-44d8-86e7-a59c5cadb7a2",
   "metadata": {},
   "outputs": [
    {
     "name": "stdin",
     "output_type": "stream",
     "text": [
      "1- 10사이 정수 입력(-1입력시 종료) >>  1\n",
      "1- 10사이 정수 입력(-1입력시 종료) >>  2\n"
     ]
    },
    {
     "name": "stdout",
     "output_type": "stream",
     "text": [
      "2는 짝수입니다.\n"
     ]
    },
    {
     "name": "stdin",
     "output_type": "stream",
     "text": [
      "1- 10사이 정수 입력(-1입력시 종료) >>  3\n",
      "1- 10사이 정수 입력(-1입력시 종료) >>  -1\n"
     ]
    }
   ],
   "source": [
    "while True : \n",
    "    user_input = int(input(\"1- 10사이 정수 입력(-1입력시 종료) >> \"))\n",
    "\n",
    "    if user_input == -1 : \n",
    "        break \n",
    "\n",
    "    if user_input < 1 or user_input > 10 : \n",
    "        print(\"1부터 10까지의 숫자를 입력하시오.\")\n",
    "        continue\n",
    "\n",
    "    if user_input % 2 == 0 : \n",
    "        print(f'{user_input}는 짝수입니다.')\n",
    "\n",
    "    else  : \n",
    "        continue\n"
   ]
  }
 ],
 "metadata": {
  "kernelspec": {
   "display_name": "Python 3 (ipykernel)",
   "language": "python",
   "name": "python3"
  },
  "language_info": {
   "codemirror_mode": {
    "name": "ipython",
    "version": 3
   },
   "file_extension": ".py",
   "mimetype": "text/x-python",
   "name": "python",
   "nbconvert_exporter": "python",
   "pygments_lexer": "ipython3",
   "version": "3.12.7"
  }
 },
 "nbformat": 4,
 "nbformat_minor": 5
}
